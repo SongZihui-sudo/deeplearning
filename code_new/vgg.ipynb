{
 "cells": [
  {
   "cell_type": "code",
   "execution_count": null,
   "metadata": {},
   "outputs": [],
   "source": [
    "import torch\n",
    "import random\n",
    "import numpy as np\n",
    "import pandas as pd\n",
    "import matplotlib.pyplot as plt\n",
    "import torchvision\n",
    "import tqdm\n",
    "\n",
    "myseed = 12345\n",
    "torch.manual_seed(myseed)\n",
    "torch.random.manual_seed(myseed)\n",
    "random.seed(0)\n",
    "np.random.seed(myseed)\n",
    "torch.backends.cudnn.deterministic = True\n",
    "torch.backends.cudnn.benchmark = False\n",
    "torch.cuda.manual_seed_all(myseed)\n",
    "torch.autograd.set_detect_anomaly(True)  # 可在NaN 出现时报错，定位错误代码。正向传播时：开启自动求导的异常侦测\n",
    "# 反向传播时：在求导时开启侦测\n",
    "#with torch.autograd.detect_anomaly():\n",
    "#    loss.backward()\n",
    "torch.multiprocessing.set_sharing_strategy('file_system')"
   ]
  },
  {
   "cell_type": "code",
   "execution_count": null,
   "metadata": {},
   "outputs": [],
   "source": [
    "# 使用 GPU\n",
    "def try_gpu(i=0):  #@save\n",
    "    \"\"\"如果存在，则返回gpu(i)，否则返回cpu()\"\"\"\n",
    "    if torch.cuda.device_count() >= i + 1:\n",
    "        return torch.device(f'cuda:{i}')\n",
    "    return torch.device('cpu')\n",
    "def try_all_gpus():  #@save\n",
    "    \"\"\"返回所有可用的GPU，如果没有GPU，则返回[cpu(),]\"\"\"\n",
    "    devices = [torch.device(f'cuda:{i}')\n",
    "             for i in range(torch.cuda.device_count())]\n",
    "    return devices if devices else [torch.device('cpu')]"
   ]
  },
  {
   "cell_type": "code",
   "execution_count": null,
   "metadata": {},
   "outputs": [],
   "source": [
    "# 数据预处理, 调整图片大小\n",
    "transform = torchvision.transforms.Compose([torchvision.transforms.ToTensor(), torchvision.transforms.Resize([96, 96])])\n",
    "\n",
    "# 下载Fashion-MNIST训练集数据，并构建训练集数据载入器trainloader,每次从训练集中载入64张图片，每次载入都打乱顺序\n",
    "trainset = torchvision.datasets.FashionMNIST('dataset/', download=False, train=True, transform=transform)\n",
    "trainloader = torch.utils.data.DataLoader(trainset, batch_size=64, shuffle=True)\n",
    "\n",
    "# 下载Fashion-MNIST测试集数据，并构建测试集数据载入器trainloader,每次从测试集中载入64张图片，每次载入都打乱顺序\n",
    "testset = torchvision.datasets.FashionMNIST('dataset/', download=False, train=False, transform=transform)\n",
    "testloader = torch.utils.data.DataLoader(testset, batch_size=64, shuffle=True)"
   ]
  },
  {
   "cell_type": "code",
   "execution_count": null,
   "metadata": {},
   "outputs": [],
   "source": [
    "def show_images(imgs, num_rows, num_cols, titles=None, scale=1.5):  #@save\n",
    "    \"\"\"绘制图像列表\"\"\"\n",
    "    figsize = (num_cols * scale, num_rows * scale)\n",
    "    _, axes = plt.subplots(num_rows, num_cols, figsize=figsize)\n",
    "    axes = axes.flatten()\n",
    "    for i, (ax, img) in enumerate(zip(axes, imgs)):\n",
    "        if torch.is_tensor(img):\n",
    "            # 图片张量\n",
    "            ax.imshow(img.numpy())\n",
    "        else:\n",
    "            # PIL图片\n",
    "            ax.imshow(img)\n",
    "        ax.axes.get_xaxis().set_visible(False)\n",
    "        ax.axes.get_yaxis().set_visible(False)\n",
    "        if titles:\n",
    "            ax.set_title(titles[i])\n",
    "    return axes"
   ]
  },
  {
   "cell_type": "code",
   "execution_count": null,
   "metadata": {},
   "outputs": [],
   "source": [
    "def get_fashion_mnist_labels(labels):  #@save\n",
    "    \"\"\"返回Fashion-MNIST数据集的文本标签\"\"\"\n",
    "    text_labels = ['t-shirt', 'trouser', 'pullover', 'dress', 'coat',\n",
    "                   'sandal', 'shirt', 'sneaker', 'bag', 'ankle boot']\n",
    "    return [text_labels[int(i)] for i in labels]"
   ]
  },
  {
   "cell_type": "code",
   "execution_count": null,
   "metadata": {},
   "outputs": [],
   "source": [
    "x, y = next(iter(trainloader))\n",
    "show_images(x.reshape(64, 96, 96), 8, 8, titles=get_fashion_mnist_labels(y))"
   ]
  },
  {
   "cell_type": "code",
   "execution_count": null,
   "metadata": {},
   "outputs": [],
   "source": [
    "def vgg_block(nums_convs, in_channals, out_channals):\n",
    "    layers = []\n",
    "    for i in range(nums_convs):\n",
    "        layers.append(torch.nn.Conv2d(in_channals, out_channals, 3, 1, 1))\n",
    "        layers.append(torch.nn.ReLU())\n",
    "        in_channals = out_channals\n",
    "    layers.append(torch.nn.MaxPool2d(2, 2))\n",
    "    return torch.nn.Sequential(*layers)"
   ]
  },
  {
   "cell_type": "code",
   "execution_count": null,
   "metadata": {},
   "outputs": [],
   "source": [
    "class Net(torch.nn.Module):\n",
    "    def __init__(self):\n",
    "        super(Net, self).__init__()\n",
    "        self.layer_1 = vgg_block(3, 1, 256)\n",
    "        self.layer_2\n",
    "\n",
    "    def forward(self, x):\n",
    "        pass"
   ]
  },
  {
   "cell_type": "code",
   "execution_count": null,
   "metadata": {},
   "outputs": [],
   "source": [
    "model = Net()\n",
    "model = model.to(device=try_gpu())\n",
    "\n",
    "# 定义优化器和损失函数\n",
    "optimizer = torch.optim.Adam(model.parameters())\n",
    "criterion = torch.nn.CrossEntropyLoss()\n",
    "\n",
    "model.train()\n",
    "epochs= 5\n",
    "\n",
    "Loss_data = {\n",
    "    \"train\": [],\n",
    "    \"dev\": []\n",
    "}\n",
    "\n",
    "# 训练\n",
    "for epoch in range(epochs):\n",
    "    Loss = 0\n",
    "    with tqdm.tqdm(total=trainloader.__len__()) as pbar:\n",
    "        model.train()\n",
    "        running_train_loss = 0.0\n",
    "        for batch_x, batch_y in trainloader:\n",
    "            x, y = batch_x.to(device=try_gpu()), batch_y.to(device=try_gpu())\n",
    "            prediction = model(x)\n",
    "            loss = criterion(prediction, y)\n",
    "            loss.backward()\n",
    "            optimizer.step()\n",
    "            optimizer.zero_grad()\n",
    "            pbar.update(1)\n",
    "            running_train_loss += loss.item()\n",
    "        \n",
    "        # 训练损失\n",
    "        epoch_train_loss = running_train_loss / len(trainloader)\n",
    "        model.eval()\n",
    "        Loss_data[\"train\"].append(epoch_train_loss)\n",
    "\n",
    "        # 测试损失\n",
    "        model.eval()\n",
    "        running_test_loss = 0.0\n",
    "        with torch.no_grad():\n",
    "            for inputs, targets in testloader:\n",
    "                x, y = inputs.to(device=try_gpu()), targets.to(device=try_gpu())\n",
    "                outputs = model(x)\n",
    "                loss = criterion(outputs, y)\n",
    "                running_test_loss += loss.item()\n",
    "        epoch_test_loss = running_test_loss / len(testloader)\n",
    "        Loss_data[\"dev\"].append(epoch_test_loss)"
   ]
  },
  {
   "cell_type": "code",
   "execution_count": null,
   "metadata": {},
   "outputs": [],
   "source": [
    "def plot_learning_curve(loss_record, title=''):\n",
    "    ''' Plot learning curve of your DNN (train & dev loss) '''\n",
    "    x_1 = [i for i in range(len(loss_record['train']))]\n",
    "    x_2 = [i for i in range(len(Loss_data[\"dev\"]))]\n",
    "    plt.figure(figsize=(6, 4))\n",
    "    plt.plot(x_1, loss_record['train'], c='tab:red', label='train')\n",
    "    plt.plot(x_2, loss_record['dev'], c='tab:cyan', label='dev')\n",
    "    plt.ylim(0.0, 5.)\n",
    "    plt.xlabel('Training steps')\n",
    "    plt.ylabel('MSE loss')\n",
    "    plt.title('Learning curve of {}'.format(title))\n",
    "    plt.legend()\n",
    "    plt.show()\n",
    "\n",
    "plot_learning_curve(Loss_data, \"Loss\")"
   ]
  },
  {
   "cell_type": "code",
   "execution_count": null,
   "metadata": {},
   "outputs": [],
   "source": [
    "def plot_acc_curve(acc_record, title=''):\n",
    "    x_1 = [i for i in range(len(acc_record['train']))]\n",
    "    x_2 = [i for i in range(len(acc_record[\"dev\"]))]\n",
    "    plt.figure(figsize=(6, 4))\n",
    "    plt.plot(x_1, acc_record['train'] , c='tab:red', label='train')\n",
    "    plt.plot(x_2, acc_record['dev'] , c='tab:cyan', label='dev')\n",
    "    plt.ylim(0.0, 1.)\n",
    "    plt.xlabel('Training steps')\n",
    "    plt.ylabel('ACC')\n",
    "    plt.title('Learning curve of {}'.format(title))\n",
    "    plt.legend()\n",
    "    plt.show()\n",
    "\n",
    "plot_acc_curve(acc_data, \"ACC\")"
   ]
  }
 ],
 "metadata": {
  "kernelspec": {
   "display_name": "d2l",
   "language": "python",
   "name": "python3"
  },
  "language_info": {
   "name": "python",
   "version": "3.12.3"
  }
 },
 "nbformat": 4,
 "nbformat_minor": 2
}
