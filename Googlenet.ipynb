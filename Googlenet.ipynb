{
 "cells": [
  {
   "cell_type": "code",
   "execution_count": 105,
   "metadata": {},
   "outputs": [],
   "source": [
    "import torch\n",
    "import random\n",
    "import numpy as np\n",
    "import pandas as pd\n",
    "import matplotlib.pyplot as plt\n",
    "import torchvision\n",
    "import tqdm\n",
    "\n",
    "myseed = 12345\n",
    "torch.manual_seed(myseed)\n",
    "torch.random.manual_seed(myseed)\n",
    "random.seed(0)\n",
    "np.random.seed(myseed)\n",
    "torch.backends.cudnn.deterministic = True\n",
    "torch.backends.cudnn.benchmark = False\n",
    "torch.cuda.manual_seed_all(myseed)\n",
    "torch.autograd.set_detect_anomaly(True)  # 可在NaN 出现时报错，定位错误代码。正向传播时：开启自动求导的异常侦测\n",
    "# 反向传播时：在求导时开启侦测\n",
    "#with torch.autograd.detect_anomaly():\n",
    "#    loss.backward()\n",
    "torch.multiprocessing.set_sharing_strategy('file_system')"
   ]
  },
  {
   "cell_type": "code",
   "execution_count": 106,
   "metadata": {},
   "outputs": [],
   "source": [
    "# 使用 GPU\n",
    "def try_gpu(i=0):  #@save\n",
    "    \"\"\"如果存在，则返回gpu(i)，否则返回cpu()\"\"\"\n",
    "    if torch.cuda.device_count() >= i + 1:\n",
    "        return torch.device(f'cuda:{i}')\n",
    "    return torch.device('cpu')\n",
    "def try_all_gpus():  #@save\n",
    "    \"\"\"返回所有可用的GPU，如果没有GPU，则返回[cpu(),]\"\"\"\n",
    "    devices = [torch.device(f'cuda:{i}')\n",
    "             for i in range(torch.cuda.device_count())]\n",
    "    return devices if devices else [torch.device('cpu')]"
   ]
  },
  {
   "cell_type": "code",
   "execution_count": 107,
   "metadata": {},
   "outputs": [],
   "source": [
    "# 数据预处理, 调整图片大小\n",
    "transform = torchvision.transforms.Compose([torchvision.transforms.ToTensor(), torchvision.transforms.Resize([96, 96])])\n",
    "\n",
    "# 下载Fashion-MNIST训练集数据，并构建训练集数据载入器trainloader,每次从训练集中载入64张图片，每次载入都打乱顺序\n",
    "trainset = torchvision.datasets.FashionMNIST('dataset/', download=False, train=True, transform=transform)\n",
    "trainloader = torch.utils.data.DataLoader(trainset, batch_size=64, shuffle=True)\n",
    "\n",
    "# 下载Fashion-MNIST测试集数据，并构建测试集数据载入器trainloader,每次从测试集中载入64张图片，每次载入都打乱顺序\n",
    "testset = torchvision.datasets.FashionMNIST('dataset/', download=False, train=False, transform=transform)\n",
    "testloader = torch.utils.data.DataLoader(testset, batch_size=64, shuffle=True)"
   ]
  },
  {
   "cell_type": "code",
   "execution_count": 108,
   "metadata": {},
   "outputs": [],
   "source": [
    "class inception(torch.nn.Module):\n",
    "    def __init__(self, in_channels, c1, c2, c3, c4, **kwargs) -> None:\n",
    "        super(inception, self).__init__(**kwargs)\n",
    "        self.r1 = torch.nn.Conv2d(in_channels, c1, kernel_size=1)\n",
    "        self.r2 = torch.nn.Sequential(torch.nn.Conv2d(in_channels, c2[0], kernel_size=1), torch.nn.ReLU(),\n",
    "                                      torch.nn.Conv2d(c2[0], c2[1], kernel_size=3, padding=1)\n",
    "        )\n",
    "        self.r3 = torch.nn.Sequential(torch.nn.Conv2d(in_channels, c3[0], kernel_size=1), torch.nn.ReLU(),\n",
    "                                      torch.nn.Conv2d(c3[0], c3[1], kernel_size=5, padding=2)\n",
    "                                      )\n",
    "        self.r4 = torch.nn.Sequential(torch.nn.MaxPool2d(kernel_size=3, stride=1, padding=1),\n",
    "                                      torch.nn.Conv2d(in_channels, c4, kernel_size=1)\n",
    "        )\n",
    "        \n",
    "    def forward(self, x):\n",
    "        p1 = torch.nn.functional.relu(self.r1(x))\n",
    "        p2 = torch.nn.functional.relu(self.r2(x))\n",
    "        p3 = torch.nn.functional.relu(self.r3(x))\n",
    "        p4 = torch.nn.functional.relu(self.r4(x))\n",
    "        x = torch.cat((p1, p2, p3, p4), dim=1)\n",
    "        return x"
   ]
  },
  {
   "cell_type": "code",
   "execution_count": 109,
   "metadata": {},
   "outputs": [],
   "source": [
    "class GoogleNet(torch.nn.Module):\n",
    "    def __init__(self):\n",
    "        super(GoogleNet, self).__init__()\n",
    "        self.layer1 = torch.nn.Sequential(torch.nn.Conv2d(1, 64, kernel_size=7, stride=2, padding=3), torch.nn.ReLU(),\n",
    "                                           torch.nn.MaxPool2d(kernel_size=3, stride=2, padding=1)\n",
    "        )\n",
    "        self.layer2 = torch.nn.Sequential(torch.nn.Conv2d(64, 64, kernel_size=1), torch.nn.ReLU(),\n",
    "                                          torch.nn.Conv2d(64, 192, kernel_size=3, padding=1), torch.nn.ReLU(),\n",
    "                                          torch.nn.MaxPool2d(kernel_size=3, stride=2, padding=1)\n",
    "        )\n",
    "        self.layer3 = torch.nn.Sequential(inception(192, 64, (96, 128), (16, 32), 32), torch.nn.ReLU(), \n",
    "                                          inception(256, 128, (128, 192), (32, 96), 64), torch.nn.ReLU(),\n",
    "                                          torch.nn.MaxPool2d(kernel_size=3, stride=2, padding=1))\n",
    "        self.layer4 = torch.nn.Sequential(inception(480, 192, (96, 208), (16, 48), 64), torch.nn.ReLU(), \n",
    "                                          inception(512, 160, (112, 224), (24, 64), 64), torch.nn.ReLU(),\n",
    "                                          inception(512, 128, (128, 256), (24, 64), 64), torch.nn.ReLU(),\n",
    "                                          inception(512, 112, (144, 288), (32, 64), 64), torch.nn.ReLU(),\n",
    "                                          inception(528, 256, (160, 320), (32, 128), 128), torch.nn.ReLU(),\n",
    "                                          torch.nn.MaxPool2d(kernel_size=3, stride=2, padding=1))\n",
    "        self.layer5 = torch.nn.Sequential(inception(832, 256, (160, 320), (32, 128), 128), torch.nn.ReLU(), \n",
    "                                          inception(832, 384, (192, 384), (48, 128), 128), torch.nn.ReLU())\n",
    "        self.layer6 = torch.nn.Sequential(torch.nn.AdaptiveAvgPool2d((1, 1)), torch.nn.Flatten(),\n",
    "                                          torch.nn.Linear(1024, 10))\n",
    "        \n",
    "    def forward(self, x):\n",
    "        x = self.layer1(x)\n",
    "        x = self.layer2(x)\n",
    "        x = self.layer3(x)\n",
    "        x = self.layer4(x)\n",
    "        x = self.layer5(x)\n",
    "        x = self.layer6(x)\n",
    "        return x"
   ]
  },
  {
   "cell_type": "code",
   "execution_count": 110,
   "metadata": {},
   "outputs": [
    {
     "name": "stderr",
     "output_type": "stream",
     "text": [
      "100%|██████████| 5/5 [18:25<00:00, 221.00s/it]\n"
     ]
    }
   ],
   "source": [
    "model = GoogleNet()\n",
    "model = model.to(device=try_gpu())\n",
    "\n",
    "# 定义优化器和损失函数\n",
    "optimizer = torch.optim.Adam(model.parameters())\n",
    "criterion = torch.nn.CrossEntropyLoss()\n",
    "\n",
    "model.train()\n",
    "epochs= 5\n",
    "\n",
    "Loss_data = {\n",
    "    \"train\": [],\n",
    "    \"dev\": []\n",
    "}\n",
    "\n",
    "for epoch in tqdm.tqdm(range(epochs)):\n",
    "    Loss = 0\n",
    "    for batch_x, batch_y in trainloader:\n",
    "        batch_x, batch_y = batch_x.to(device=try_gpu()), batch_y.to(device=try_gpu())\n",
    "        prediction = model(batch_x)\n",
    "        loss = criterion(prediction, batch_y)\n",
    "        loss.backward()\n",
    "        optimizer.step()\n",
    "        optimizer.zero_grad()\n",
    "        Loss_data[\"train\"].append(float(loss))\n",
    "        Loss_data[\"dev\"].append(0)"
   ]
  },
  {
   "cell_type": "code",
   "execution_count": 111,
   "metadata": {},
   "outputs": [
    {
     "data": {
      "image/png": "[encoded data removed]",
      "text/plain": [
       "<Figure size 600x400 with 1 Axes>"
      ]
     },
     "metadata": {},
     "output_type": "display_data"
    }
   ],
   "source": [
    "def plot_learning_curve(loss_record, title=''):\n",
    "    ''' Plot learning curve of your DNN (train & dev loss) '''\n",
    "    total_steps = len(loss_record['train'])\n",
    "    x_1 = range(total_steps)\n",
    "    x_2 = x_1[::len(loss_record['train']) // len(loss_record['dev'])]\n",
    "    plt.figure(figsize=(6, 4))\n",
    "    plt.plot(x_1, loss_record['train'], c='tab:red', label='train')\n",
    "    plt.plot(x_2, loss_record['dev'], c='tab:cyan', label='dev')\n",
    "    plt.ylim(0.0, 5.)\n",
    "    plt.xlabel('Training steps')\n",
    "    plt.ylabel('MSE loss')\n",
    "    plt.title('Learning curve of {}'.format(title))\n",
    "    plt.legend()\n",
    "    plt.show()\n",
    "\n",
    "plot_learning_curve(Loss_data, \"Loss\")"
   ]
  },
  {
   "cell_type": "code",
   "execution_count": 116,
   "metadata": {},
   "outputs": [
    {
     "name": "stdout",
     "output_type": "stream",
     "text": [
      "准确率: 0.889043\n"
     ]
    }
   ],
   "source": [
    "model.eval()\n",
    "predicted_labels = []\n",
    "epoch = 1\n",
    "accuracy_sum = 0\n",
    "with torch.no_grad():\n",
    "    for batch_x, batch_y in testloader:\n",
    "        batch_x, batch_y = batch_x.to(device = try_gpu()), batch_y.to(device = try_gpu())\n",
    "        prediction = model(batch_x)\n",
    "        predicted_label = torch.argmax(prediction,1)\n",
    "        accuracy = torch.eq(batch_y, predicted_label).float().mean()\n",
    "        accuracy_sum = accuracy_sum + accuracy\n",
    "        epoch = epoch + 1\n",
    "\n",
    "print(\"准确率: %f\" % (accuracy_sum / epoch))"
   ]
  }
 ],
 "metadata": {
  "kernelspec": {
   "display_name": "d2l",
   "language": "python",
   "name": "python3"
  },
  "language_info": {
   "codemirror_mode": {
    "name": "ipython",
    "version": 3
   },
   "file_extension": ".py",
   "mimetype": "text/x-python",
   "name": "python",
   "nbconvert_exporter": "python",
   "pygments_lexer": "ipython3",
   "version": "3.12.3"
  }
 },
 "nbformat": 4,
 "nbformat_minor": 2
}
