{
 "cells": [
  {
   "cell_type": "code",
   "execution_count": 2,
   "metadata": {},
   "outputs": [],
   "source": [
    "'''\n",
    "Author: SongZihui-sudo 1751122876@qq.com\n",
    "Date: 2024-07-08 16:05:04\n",
    "LastEditors: SongZihui-sudo 1751122876@qq.com\n",
    "LastEditTime: 2024-07-08 21:16:56\n",
    "FilePath: /deeplearning/NiN.ipynb\n",
    "Description: 这是默认设置,请设置`customMade`, 打开koroFileHeader查看配置 进行设置: https://github.com/OBKoro1/koro1FileHeader/wiki/%E9%85%8D%E7%BD%AE\n",
    "'''\n",
    "import torch\n",
    "import torchvision\n",
    "import tqdm\n",
    "import matplotlib.pyplot as plt"
   ]
  },
  {
   "cell_type": "code",
   "execution_count": 3,
   "metadata": {},
   "outputs": [],
   "source": [
    "# 使用 GPU\n",
    "def try_gpu(i=0):  #@save\n",
    "    \"\"\"如果存在，则返回gpu(i)，否则返回cpu()\"\"\"\n",
    "    if torch.cuda.device_count() >= i + 1:\n",
    "        return torch.device(f'cuda:{i}')\n",
    "    return torch.device('cpu')\n",
    "\n",
    "def try_all_gpus():  #@save\n",
    "    \"\"\"返回所有可用的GPU，如果没有GPU，则返回[cpu(),]\"\"\"\n",
    "    devices = [torch.device(f'cuda:{i}')\n",
    "             for i in range(torch.cuda.device_count())]\n",
    "    return devices if devices else [torch.device('cpu')]"
   ]
  },
  {
   "cell_type": "code",
   "execution_count": 4,
   "metadata": {},
   "outputs": [],
   "source": [
    "# 数据预处理, 调整图片大小\n",
    "transform = torchvision.transforms.Compose([torchvision.transforms.ToTensor(), torchvision.transforms.Resize([224, 224])])\n",
    "\n",
    "# 下载Fashion-MNIST训练集数据，并构建训练集数据载入器trainloader,每次从训练集中载入64张图片，每次载入都打乱顺序\n",
    "trainset = torchvision.datasets.FashionMNIST('dataset/', download=False, train=True, transform=transform)\n",
    "trainloader = torch.utils.data.DataLoader(trainset, batch_size=64, shuffle=True)\n",
    "\n",
    "# 下载Fashion-MNIST测试集数据，并构建测试集数据载入器trainloader,每次从测试集中载入64张图片，每次载入都打乱顺序\n",
    "testset = torchvision.datasets.FashionMNIST('dataset/', download=False, train=False, transform=transform)\n",
    "testloader = torch.utils.data.DataLoader(testset, batch_size=64, shuffle=True)"
   ]
  },
  {
   "cell_type": "code",
   "execution_count": 84,
   "metadata": {},
   "outputs": [],
   "source": [
    "def make_net(cfg):\n",
    "   layers = []\n",
    "   pre = 1\n",
    "   for config in cfg:\n",
    "      if config == \"M\":\n",
    "         layers.append(torch.nn.MaxPool2d(kernel_size=3, stride=2))\n",
    "      elif config == \"D\":\n",
    "         layers.append(torch.nn.Dropout(0.5))\n",
    "      else:\n",
    "         block = []\n",
    "         for i in range(config[\"num_layers\"]):\n",
    "            if i:\n",
    "               block.append(torch.nn.Conv2d(pre, \n",
    "                                          config[\"num_channels\"], \n",
    "                                          kernel_size=1))\n",
    "            else:\n",
    "               block.append(torch.nn.Conv2d(pre, \n",
    "                                          config[\"num_channels\"], \n",
    "                                          kernel_size=config[\"kernel_size\"], \n",
    "                                          stride=config[\"strides\"], \n",
    "                                          padding=config[\"padding\"]))\n",
    "            block.append(torch.nn.ReLU())\n",
    "            pre = config[\"num_channels\"]\n",
    "         layers.append(torch.nn.Sequential(*block))\n",
    "   return torch.nn.Sequential(*layers)"
   ]
  },
  {
   "cell_type": "code",
   "execution_count": 85,
   "metadata": {},
   "outputs": [],
   "source": [
    "class NiN(torch.nn.Module):\n",
    "    def __init__(self, cfg):\n",
    "        super(NiN, self).__init__()\n",
    "        \n",
    "        self.blocks = make_net(cfg)\n",
    "        self.output = torch.nn.Sequential(torch.nn.AdaptiveAvgPool2d((1, 1)), torch.nn.Flatten())\n",
    "        \n",
    "    def forward(self, x):\n",
    "        x = self.blocks(x)\n",
    "        x = self.output(x)\n",
    "        return x"
   ]
  },
  {
   "cell_type": "code",
   "execution_count": 86,
   "metadata": {},
   "outputs": [],
   "source": [
    "cfg = {\n",
    "    \"NiN\": [\n",
    "        {\n",
    "            \"kernel_size\": 11,\n",
    "            \"num_channels\": 96,\n",
    "            \"strides\" : 4,\n",
    "            \"padding\": 0,\n",
    "            \"num_layers\": 3\n",
    "        },\n",
    "        \"M\",\n",
    "        {\n",
    "            \"kernel_size\": 5,\n",
    "            \"num_channels\": 256,\n",
    "            \"strides\" : 1,\n",
    "            \"padding\": 1,\n",
    "            \"num_layers\": 3\n",
    "        },\n",
    "        \"M\",\n",
    "        {\n",
    "            \"kernel_size\": 3,\n",
    "            \"num_channels\": 384,\n",
    "            \"strides\" : 1,\n",
    "            \"padding\": 1,\n",
    "            \"num_layers\": 3\n",
    "        },\n",
    "        \"M\",\n",
    "        \"D\",\n",
    "        {\n",
    "            \"kernel_size\": 3,\n",
    "            \"num_channels\": 10,\n",
    "            \"strides\" : 1,\n",
    "            \"padding\": 1,\n",
    "            \"num_layers\": 3\n",
    "        }\n",
    "    ]\n",
    "}"
   ]
  },
  {
   "cell_type": "code",
   "execution_count": 87,
   "metadata": {},
   "outputs": [
    {
     "name": "stdout",
     "output_type": "stream",
     "text": [
      "NiN(\n",
      "  (blocks): Sequential(\n",
      "    (0): Sequential(\n",
      "      (0): Conv2d(1, 96, kernel_size=(11, 11), stride=(4, 4))\n",
      "      (1): ReLU()\n",
      "      (2): Conv2d(96, 96, kernel_size=(1, 1), stride=(1, 1))\n",
      "      (3): ReLU()\n",
      "      (4): Conv2d(96, 96, kernel_size=(1, 1), stride=(1, 1))\n",
      "      (5): ReLU()\n",
      "    )\n",
      "    (1): MaxPool2d(kernel_size=3, stride=2, padding=0, dilation=1, ceil_mode=False)\n",
      "    (2): Sequential(\n",
      "      (0): Conv2d(96, 256, kernel_size=(5, 5), stride=(1, 1), padding=(1, 1))\n",
      "      (1): ReLU()\n",
      "      (2): Conv2d(256, 256, kernel_size=(1, 1), stride=(1, 1))\n",
      "      (3): ReLU()\n",
      "      (4): Conv2d(256, 256, kernel_size=(1, 1), stride=(1, 1))\n",
      "      (5): ReLU()\n",
      "    )\n",
      "    (3): MaxPool2d(kernel_size=3, stride=2, padding=0, dilation=1, ceil_mode=False)\n",
      "    (4): Sequential(\n",
      "      (0): Conv2d(256, 384, kernel_size=(3, 3), stride=(1, 1), padding=(1, 1))\n",
      "      (1): ReLU()\n",
      "      (2): Conv2d(384, 384, kernel_size=(1, 1), stride=(1, 1))\n",
      "      (3): ReLU()\n",
      "      (4): Conv2d(384, 384, kernel_size=(1, 1), stride=(1, 1))\n",
      "      (5): ReLU()\n",
      "    )\n",
      "    (5): MaxPool2d(kernel_size=3, stride=2, padding=0, dilation=1, ceil_mode=False)\n",
      "    (6): Dropout(p=0.5, inplace=False)\n",
      "    (7): Sequential(\n",
      "      (0): Conv2d(384, 10, kernel_size=(3, 3), stride=(1, 1), padding=(1, 1))\n",
      "      (1): ReLU()\n",
      "      (2): Conv2d(10, 10, kernel_size=(1, 1), stride=(1, 1))\n",
      "      (3): ReLU()\n",
      "      (4): Conv2d(10, 10, kernel_size=(1, 1), stride=(1, 1))\n",
      "      (5): ReLU()\n",
      "    )\n",
      "  )\n",
      "  (output): Sequential(\n",
      "    (0): AdaptiveAvgPool2d(output_size=(1, 1))\n",
      "    (1): Flatten(start_dim=1, end_dim=-1)\n",
      "  )\n",
      ")\n"
     ]
    },
    {
     "name": "stderr",
     "output_type": "stream",
     "text": [
      "100%|██████████| 10/10 [20:05<00:00, 120.52s/it]\n"
     ]
    }
   ],
   "source": [
    "net = NiN(cfg[\"NiN\"])\n",
    "net = net.to(device=try_gpu())\n",
    "\n",
    "print(net)\n",
    "\n",
    "net.train()\n",
    "\n",
    "cost = torch.nn.CrossEntropyLoss()\n",
    "optimizer = torch.optim.Adam(net.parameters())\n",
    "\n",
    "loss_data = {\n",
    "    \"epoch\" : [],\n",
    "    \"loss\" : []\n",
    "}\n",
    "\n",
    "i = 0\n",
    "for epoch in tqdm.tqdm(range(10)):\n",
    "    loss_sum = 0\n",
    "    for images, labels in trainloader:\n",
    "        images = images.to(device=try_gpu())\n",
    "        labels = labels.to(device=try_gpu())\n",
    "        y_predict = net(images)\n",
    "        optimizer.zero_grad()\n",
    "        loss = cost( y_predict, labels )\n",
    "        loss.backward()\n",
    "        optimizer.step()\n",
    "        i = i + 1\n",
    "        loss_sum = loss_sum + float(loss)\n",
    "    loss_data[\"epoch\"].append(epoch)\n",
    "    loss_data[\"loss\"].append(loss_sum / i)\n",
    "    i = i + 1"
   ]
  },
  {
   "cell_type": "code",
   "execution_count": 91,
   "metadata": {},
   "outputs": [
    {
     "name": "stdout",
     "output_type": "stream",
     "text": [
      "{'epoch': [0, 1, 2, 3, 4, 5, 6, 7, 8, 9], 'loss': [1.3100457547315911, 0.3531776337815398, 0.1892506626371125, 0.12225612973404947, 0.08860057873018863, 0.06913390738458716, 0.05517516045519947, 0.04521151802389366, 0.03771486343540383, 0.03166521642313863]}\n"
     ]
    },
    {
     "data": {
      "image/png": "[encoded data removed]",
      "text/plain": [
       "<Figure size 640x480 with 1 Axes>"
      ]
     },
     "metadata": {},
     "output_type": "display_data"
    }
   ],
   "source": [
    "print(loss_data)\n",
    "plt.plot(loss_data[\"epoch\"], loss_data[\"loss\"])\n",
    "plt.show()"
   ]
  },
  {
   "cell_type": "code",
   "execution_count": 92,
   "metadata": {},
   "outputs": [
    {
     "name": "stdout",
     "output_type": "stream",
     "text": [
      "平均精准度：0.879080\n"
     ]
    }
   ],
   "source": [
    "net.eval()\n",
    "yhat = []\n",
    "epoch = 0\n",
    "accuracy_sum = 0\n",
    "for images, labels in testloader:\n",
    "    images = images.to(device=try_gpu())\n",
    "    labels = labels.to(device=try_gpu())\n",
    "    y_predict = net(images)\n",
    "    y_predict = torch.argmax(y_predict, dim = 1)\n",
    "    accuracy = torch.eq(labels, y_predict).float().mean()\n",
    "    accuracy_sum = accuracy_sum + accuracy\n",
    "    epoch = epoch + 1\n",
    "print(\"平均精准度：%f\" % (accuracy_sum / epoch))"
   ]
  }
 ],
 "metadata": {
  "kernelspec": {
   "display_name": "d2l",
   "language": "python",
   "name": "python3"
  },
  "language_info": {
   "codemirror_mode": {
    "name": "ipython",
    "version": 3
   },
   "file_extension": ".py",
   "mimetype": "text/x-python",
   "name": "python",
   "nbconvert_exporter": "python",
   "pygments_lexer": "ipython3",
   "version": "3.12.3"
  }
 },
 "nbformat": 4,
 "nbformat_minor": 2
}
