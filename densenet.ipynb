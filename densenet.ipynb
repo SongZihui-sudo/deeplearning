{
 "cells": [
  {
   "cell_type": "code",
   "execution_count": 76,
   "metadata": {},
   "outputs": [],
   "source": [
    "import torch\n",
    "import random\n",
    "import numpy as np\n",
    "import pandas as pd\n",
    "import matplotlib.pyplot as plt\n",
    "import torchvision\n",
    "import tqdm\n",
    "\n",
    "myseed = 12345\n",
    "torch.manual_seed(myseed)\n",
    "torch.random.manual_seed(myseed)\n",
    "random.seed(0)\n",
    "np.random.seed(myseed)\n",
    "torch.backends.cudnn.deterministic = True\n",
    "torch.backends.cudnn.benchmark = False\n",
    "torch.cuda.manual_seed_all(myseed)\n",
    "torch.autograd.set_detect_anomaly(True)  # 可在NaN 出现时报错，定位错误代码。正向传播时：开启自动求导的异常侦测\n",
    "# 反向传播时：在求导时开启侦测\n",
    "#with torch.autograd.detect_anomaly():\n",
    "#    loss.backward()\n",
    "torch.multiprocessing.set_sharing_strategy('file_system')"
   ]
  },
  {
   "cell_type": "code",
   "execution_count": 77,
   "metadata": {},
   "outputs": [],
   "source": [
    "# 使用 GPU\n",
    "def try_gpu(i=0):  #@save\n",
    "    \"\"\"如果存在，则返回gpu(i)，否则返回cpu()\"\"\"\n",
    "    if torch.cuda.device_count() >= i + 1:\n",
    "        return torch.device(f'cuda:{i}')\n",
    "    return torch.device('cpu')\n",
    "def try_all_gpus():  #@save\n",
    "    \"\"\"返回所有可用的GPU，如果没有GPU，则返回[cpu(),]\"\"\"\n",
    "    devices = [torch.device(f'cuda:{i}')\n",
    "             for i in range(torch.cuda.device_count())]\n",
    "    return devices if devices else [torch.device('cpu')]"
   ]
  },
  {
   "cell_type": "code",
   "execution_count": 78,
   "metadata": {},
   "outputs": [],
   "source": [
    "# 数据预处理, 调整图片大小\n",
    "transform = torchvision.transforms.Compose([torchvision.transforms.ToTensor(), torchvision.transforms.Resize([96, 96])])\n",
    "\n",
    "# 下载Fashion-MNIST训练集数据，并构建训练集数据载入器trainloader,每次从训练集中载入64张图片，每次载入都打乱顺序\n",
    "trainset = torchvision.datasets.FashionMNIST('dataset/', download=False, train=True, transform=transform)\n",
    "trainloader = torch.utils.data.DataLoader(trainset, batch_size=64, shuffle=True)\n",
    "\n",
    "# 下载Fashion-MNIST测试集数据，并构建测试集数据载入器trainloader,每次从测试集中载入64张图片，每次载入都打乱顺序\n",
    "testset = torchvision.datasets.FashionMNIST('dataset/', download=False, train=False, transform=transform)\n",
    "testloader = torch.utils.data.DataLoader(testset, batch_size=64, shuffle=True)"
   ]
  },
  {
   "cell_type": "code",
   "execution_count": 79,
   "metadata": {},
   "outputs": [],
   "source": [
    "class Denseblock(torch.nn.Module):\n",
    "    def __init__(self, num_layers, in_channals, out_channals, strides = 1):\n",
    "        super(Denseblock, self).__init__()\n",
    "        self.net = torch.nn.Sequential()\n",
    "        \n",
    "        for i in range(num_layers):\n",
    "            if not i:\n",
    "                self.in_channals = in_channals\n",
    "            else:\n",
    "                self.in_channals = out_channals\n",
    "\n",
    "            self.net.append(torch.nn.Sequential(\n",
    "                    torch.nn.BatchNorm2d(self.in_channals),\n",
    "                    torch.nn.ReLU(),\n",
    "                    torch.nn.Conv2d(self.in_channals, out_channals, kernel_size=1),\n",
    "                    torch.nn.BatchNorm2d(out_channals),\n",
    "                    torch.nn.ReLU(),\n",
    "                    torch.nn.Conv2d(out_channals, out_channals, kernel_size=3, padding=1),\n",
    "                )\n",
    "            )\n",
    "\n",
    "    def forward(self, x):\n",
    "        Y = self.net(x)\n",
    "        X = torch.cat((Y, x), dim=1)\n",
    "        return X"
   ]
  },
  {
   "cell_type": "code",
   "execution_count": 80,
   "metadata": {},
   "outputs": [],
   "source": [
    "def transition_layer(in_channals, out_channals):\n",
    "    return torch.nn.Sequential(\n",
    "        torch.nn.BatchNorm2d(in_channals),\n",
    "        torch.nn.ReLU(),\n",
    "        torch.nn.Conv2d(in_channals, out_channals, kernel_size=1),\n",
    "        torch.nn.AvgPool2d(kernel_size=2, stride=2)\n",
    "    )"
   ]
  },
  {
   "cell_type": "code",
   "execution_count": 81,
   "metadata": {},
   "outputs": [],
   "source": [
    "class Net(torch.nn.Module):\n",
    "    def __init__(self):\n",
    "        super(Net, self).__init__()\n",
    "        self.layer1 = torch.nn.Sequential(\n",
    "            torch.nn.Conv2d(1, 112, kernel_size=7, stride=2, padding=3),\n",
    "            torch.nn.BatchNorm2d(112),\n",
    "            torch.nn.MaxPool2d(kernel_size=3, padding=1, stride=2)\n",
    "        )\n",
    "        self.layer2 = Denseblock(6, 112, 56)\n",
    "        self.layer3 = transition_layer(168, 28)\n",
    "        self.layer4 = Denseblock(12, 28, 28)\n",
    "        self.layer5 = transition_layer(56, 14)\n",
    "        self.layer6 = Denseblock(24, 14, 14)\n",
    "        self.layer7 = transition_layer(28, 7)\n",
    "        self.layer8 = Denseblock(16, 7, 7)\n",
    "        self.layer9 = torch.nn.Sequential(\n",
    "            torch.nn.BatchNorm2d(14), \n",
    "            torch.nn.ReLU(),\n",
    "            torch.nn.AdaptiveAvgPool2d((1, 1)),\n",
    "            torch.nn.Flatten(),\n",
    "            torch.nn.Linear(14, 10)\n",
    "        )\n",
    "\n",
    "    def forward(self, x):\n",
    "        x = self.layer1(x)\n",
    "        x = self.layer2(x)\n",
    "        x = self.layer3(x)\n",
    "        x = self.layer4(x)\n",
    "        x = self.layer5(x)\n",
    "        x = self.layer6(x)\n",
    "        x = self.layer7(x)\n",
    "        x = self.layer8(x)\n",
    "        x = self.layer9(x)\n",
    "        return x"
   ]
  },
  {
   "cell_type": "code",
   "execution_count": 82,
   "metadata": {},
   "outputs": [
    {
     "name": "stderr",
     "output_type": "stream",
     "text": [
      "100%|██████████| 938/938 [08:48<00:00,  1.77it/s]\n",
      "100%|██████████| 938/938 [08:47<00:00,  1.78it/s]\n",
      "100%|██████████| 938/938 [08:43<00:00,  1.79it/s]\n",
      "100%|██████████| 938/938 [08:39<00:00,  1.81it/s]\n",
      "100%|██████████| 938/938 [08:31<00:00,  1.83it/s]\n",
      "100%|██████████| 938/938 [08:29<00:00,  1.84it/s]\n",
      "100%|██████████| 938/938 [08:32<00:00,  1.83it/s]\n",
      "100%|██████████| 938/938 [08:39<00:00,  1.81it/s]\n",
      "100%|██████████| 938/938 [08:33<00:00,  1.83it/s]\n",
      "100%|██████████| 938/938 [08:28<00:00,  1.84it/s]\n"
     ]
    }
   ],
   "source": [
    "model = Net()\n",
    "model = model.to(device=try_gpu())\n",
    "\n",
    "# 定义优化器和损失函数\n",
    "optimizer = torch.optim.Adam(model.parameters())\n",
    "criterion = torch.nn.CrossEntropyLoss()\n",
    "\n",
    "model.train()\n",
    "epochs= 10\n",
    "\n",
    "Loss_data = {\n",
    "    \"train\": [],\n",
    "    \"dev\": []\n",
    "}\n",
    "\n",
    "for epoch in range(epochs):\n",
    "    Loss = 0\n",
    "    for batch_x, batch_y in  tqdm.tqdm(iter(trainloader)):\n",
    "        batch_x, batch_y = batch_x.to(device=try_gpu()), batch_y.to(device=try_gpu())\n",
    "        prediction = model(batch_x)\n",
    "        loss = criterion(prediction, batch_y)\n",
    "        loss.backward()\n",
    "        optimizer.step()\n",
    "        optimizer.zero_grad()\n",
    "        Loss_data[\"train\"].append(float(loss))\n",
    "        Loss_data[\"dev\"].append(0)"
   ]
  },
  {
   "cell_type": "code",
   "execution_count": 83,
   "metadata": {},
   "outputs": [
    {
     "data": {
      "image/png": "[encoded data removed]",
      "text/plain": [
       "<Figure size 600x400 with 1 Axes>"
      ]
     },
     "metadata": {},
     "output_type": "display_data"
    }
   ],
   "source": [
    "def plot_learning_curve(loss_record, title=''):\n",
    "    ''' Plot learning curve of your DNN (train & dev loss) '''\n",
    "    total_steps = len(loss_record['train'])\n",
    "    x_1 = range(total_steps)\n",
    "    x_2 = x_1[::len(loss_record['train']) // len(loss_record['dev'])]\n",
    "    plt.figure(figsize=(6, 4))\n",
    "    plt.plot(x_1, loss_record['train'], c='tab:red', label='train')\n",
    "    plt.plot(x_2, loss_record['dev'], c='tab:cyan', label='dev')\n",
    "    plt.ylim(0.0, 5.)\n",
    "    plt.xlabel('Training steps')\n",
    "    plt.ylabel('MSE loss')\n",
    "    plt.title('Learning curve of {}'.format(title))\n",
    "    plt.legend()\n",
    "    plt.show()\n",
    "    \n",
    "plot_learning_curve(Loss_data, \"Loss\")"
   ]
  },
  {
   "cell_type": "code",
   "execution_count": 84,
   "metadata": {},
   "outputs": [
    {
     "name": "stderr",
     "output_type": "stream",
     "text": [
      "100%|██████████| 157/157 [00:09<00:00, 16.66it/s]"
     ]
    },
    {
     "name": "stdout",
     "output_type": "stream",
     "text": [
      "准确率: 0.818571\n"
     ]
    },
    {
     "name": "stderr",
     "output_type": "stream",
     "text": [
      "\n"
     ]
    }
   ],
   "source": [
    "model.eval()\n",
    "predicted_labels = []\n",
    "epoch = 0\n",
    "accuracy_sum = 0\n",
    "with torch.no_grad():\n",
    "    for batch_x, batch_y in tqdm.tqdm(iter(testloader)):\n",
    "        batch_x, batch_y = batch_x.to(device = try_gpu()), batch_y.to(device = try_gpu())\n",
    "        prediction = model(batch_x)\n",
    "        predicted_label = torch.argmax(prediction,1)\n",
    "        accuracy = torch.eq(batch_y, predicted_label).float().mean()\n",
    "        accuracy_sum += accuracy\n",
    "        epoch = epoch + 1\n",
    "\n",
    "print(\"准确率: %f\" % (accuracy_sum / epoch))"
   ]
  }
 ],
 "metadata": {
  "kernelspec": {
   "display_name": "d2l",
   "language": "python",
   "name": "python3"
  },
  "language_info": {
   "codemirror_mode": {
    "name": "ipython",
    "version": 3
   },
   "file_extension": ".py",
   "mimetype": "text/x-python",
   "name": "python",
   "nbconvert_exporter": "python",
   "pygments_lexer": "ipython3",
   "version": "3.12.3"
  }
 },
 "nbformat": 4,
 "nbformat_minor": 2
}
