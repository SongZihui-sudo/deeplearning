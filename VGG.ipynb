{
 "cells": [
  {
   "cell_type": "code",
   "execution_count": 23,
   "metadata": {},
   "outputs": [],
   "source": [
    "import torch\n",
    "import torchvision\n",
    "import tqdm\n",
    "import matplotlib.pyplot as plt"
   ]
  },
  {
   "cell_type": "code",
   "execution_count": 24,
   "metadata": {},
   "outputs": [],
   "source": [
    "# 使用 GPU\n",
    "def try_gpu(i=0):  #@save\n",
    "    \"\"\"如果存在，则返回gpu(i)，否则返回cpu()\"\"\"\n",
    "    if torch.cuda.device_count() >= i + 1:\n",
    "        return torch.device(f'cuda:{i}')\n",
    "    return torch.device('cpu')\n",
    "\n",
    "def try_all_gpus():  #@save\n",
    "    \"\"\"返回所有可用的GPU，如果没有GPU，则返回[cpu(),]\"\"\"\n",
    "    devices = [torch.device(f'cuda:{i}')\n",
    "             for i in range(torch.cuda.device_count())]\n",
    "    return devices if devices else [torch.device('cpu')]"
   ]
  },
  {
   "cell_type": "code",
   "execution_count": 25,
   "metadata": {},
   "outputs": [],
   "source": [
    "# 数据预处理, 调整图片大小\n",
    "transform = torchvision.transforms.Compose([torchvision.transforms.ToTensor(),torchvision.transforms.Resize([224, 224])])\n",
    "\n",
    "# 下载Fashion-MNIST训练集数据，并构建训练集数据载入器trainloader,每次从训练集中载入64张图片，每次载入都打乱顺序\n",
    "trainset = torchvision.datasets.FashionMNIST('dataset/', download=False, train=True, transform=transform)\n",
    "trainloader = torch.utils.data.DataLoader(trainset, batch_size=64, shuffle=True)\n",
    "\n",
    "# 下载Fashion-MNIST测试集数据，并构建测试集数据载入器trainloader,每次从测试集中载入64张图片，每次载入都打乱顺序\n",
    "testset = torchvision.datasets.FashionMNIST('dataset/', download=False, train=False, transform=transform)\n",
    "testloader = torch.utils.data.DataLoader(testset, batch_size=64, shuffle=True)"
   ]
  },
  {
   "cell_type": "code",
   "execution_count": 26,
   "metadata": {},
   "outputs": [],
   "source": [
    "def make_net(cfg):\n",
    "    layers = []\n",
    "    pre = 1\n",
    "    for cur in cfg:\n",
    "        if cur == \"M\":\n",
    "            layers.append(torch.nn.MaxPool2d(kernel_size=2, stride=2)) # 加入一个最大汇聚成\n",
    "        else:\n",
    "            layers.append(torch.nn.Conv2d(pre, cur, kernel_size=3, padding=1)) # 加入一个卷积层\n",
    "            layers.append(torch.nn.ReLU()) # 激活函数\n",
    "            pre = cur\n",
    "    return torch.nn.Sequential(*layers)"
   ]
  },
  {
   "cell_type": "code",
   "execution_count": 27,
   "metadata": {},
   "outputs": [],
   "source": [
    "class VGG(torch.nn.Module):\n",
    "    def __init__(self, conv_arch):\n",
    "        super(VGG, self).__init__()\n",
    "        self.chunks = make_net(conv_arch)\n",
    "        self.output = torch.nn.Sequential( torch.nn.Flatten(),\n",
    "            torch.nn.Linear(512 * 7 * 7, 4096), torch.nn.ReLU(), torch.nn.Dropout(0.5),\n",
    "            torch.nn.Linear(4096, 4096), torch.nn.ReLU(), torch.nn.Dropout(0.5),\n",
    "            torch.nn.Linear(4096, 10)\n",
    "        )\n",
    "        \n",
    "    def forward(self, x):\n",
    "        x = self.chunks(x)\n",
    "        x = self.output(x)\n",
    "        return x"
   ]
  },
  {
   "cell_type": "code",
   "execution_count": 28,
   "metadata": {},
   "outputs": [],
   "source": [
    "cfg = {\n",
    "    \"vgg11\": [64, \"M\", 128, \"M\", 256, 256, \"M\", 512, 512, 512, \"M\", 512, 512, 512, \"M\"]\n",
    "}"
   ]
  },
  {
   "cell_type": "code",
   "execution_count": 29,
   "metadata": {},
   "outputs": [
    {
     "name": "stderr",
     "output_type": "stream",
     "text": [
      "  0%|          | 0/10 [00:00<?, ?it/s]"
     ]
    }
   ],
   "source": [
    "net = VGG(cfg[\"vgg11\"])\n",
    "net = net.to(device=try_gpu())\n",
    "\n",
    "net.train()\n",
    "\n",
    "cost = torch.nn.CrossEntropyLoss()\n",
    "optimizer = torch.optim.Adam(net.parameters())\n",
    "\n",
    "loss_data = {\n",
    "    \"epoch\" : [],\n",
    "    \"loss\" : []\n",
    "}\n",
    "\n",
    "i = 0\n",
    "for epoch in tqdm.tqdm(range(10)):\n",
    "    loss_sum = 0\n",
    "    for images, labels in trainloader:\n",
    "        images = images.to(device=try_gpu())\n",
    "        labels = labels.to(device=try_gpu())\n",
    "        y_predict = net(images)\n",
    "        optimizer.zero_grad()\n",
    "        loss = cost( y_predict, labels )\n",
    "        loss.backward()\n",
    "        optimizer.step()\n",
    "        i = i + 1\n",
    "        loss_sum = loss_sum + float(loss)\n",
    "    loss_data[\"epoch\"].append(epoch)\n",
    "    loss_data[\"loss\"].append(loss_sum / i)\n",
    "    i = i + 1"
   ]
  },
  {
   "cell_type": "code",
   "execution_count": null,
   "metadata": {},
   "outputs": [],
   "source": [
    "print(loss_data)\n",
    "plt.plot(loss_data[\"epoch\"], loss_data[\"loss\"])\n",
    "plt.show()"
   ]
  },
  {
   "cell_type": "code",
   "execution_count": null,
   "metadata": {},
   "outputs": [],
   "source": [
    "net.eval()\n",
    "yhat = []\n",
    "epoch = 0\n",
    "accuracy_sum = 0\n",
    "for images, labels in testloader:\n",
    "    images = images.to(device=try_gpu())\n",
    "    labels = labels.to(device=try_gpu())\n",
    "    y_predict = net(images)\n",
    "    y_predict = torch.argmax(y_predict, dim = 1)\n",
    "    accuracy = torch.eq(labels, y_predict).float().mean()\n",
    "    accuracy_sum = accuracy_sum + accuracy\n",
    "    epoch = epoch + 1\n",
    "print(\"平均精准度：%f\" % (accuracy_sum / epoch))"
   ]
  }
 ],
 "metadata": {
  "kernelspec": {
   "display_name": "d2l",
   "language": "python",
   "name": "python3"
  },
  "language_info": {
   "codemirror_mode": {
    "name": "ipython",
    "version": 3
   },
   "file_extension": ".py",
   "mimetype": "text/x-python",
   "name": "python",
   "nbconvert_exporter": "python",
   "pygments_lexer": "ipython3",
   "version": "3.12.3"
  }
 },
 "nbformat": 4,
 "nbformat_minor": 2
}
