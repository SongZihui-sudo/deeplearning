{
 "cells": [
  {
   "cell_type": "code",
   "execution_count": 1,
   "metadata": {},
   "outputs": [],
   "source": [
    "import torch\n",
    "import torchvision\n",
    "import tqdm\n",
    "import matplotlib.pyplot as plt"
   ]
  },
  {
   "cell_type": "markdown",
   "metadata": {},
   "source": [
    "GPU"
   ]
  },
  {
   "cell_type": "code",
   "execution_count": 2,
   "metadata": {},
   "outputs": [],
   "source": [
    "# 使用 GPU\n",
    "def try_gpu(i=0):  #@save\n",
    "    \"\"\"如果存在，则返回gpu(i)，否则返回cpu()\"\"\"\n",
    "    if torch.cuda.device_count() >= i + 1:\n",
    "        return torch.device(f'cuda:{i}')\n",
    "    return torch.device('cpu')\n",
    "\n",
    "def try_all_gpus():  #@save\n",
    "    \"\"\"返回所有可用的GPU，如果没有GPU，则返回[cpu(),]\"\"\"\n",
    "    devices = [torch.device(f'cuda:{i}')\n",
    "             for i in range(torch.cuda.device_count())]\n",
    "    return devices if devices else [torch.device('cpu')]"
   ]
  },
  {
   "cell_type": "markdown",
   "metadata": {},
   "source": [
    "加载数据"
   ]
  },
  {
   "cell_type": "code",
   "execution_count": 3,
   "metadata": {},
   "outputs": [],
   "source": [
    "# 数据预处理, 调整图片大小\n",
    "transform = torchvision.transforms.Compose([torchvision.transforms.ToTensor(),torchvision.transforms.Resize([224, 224])])\n",
    "\n",
    "# 下载Fashion-MNIST训练集数据，并构建训练集数据载入器trainloader,每次从训练集中载入64张图片，每次载入都打乱顺序\n",
    "trainset = torchvision.datasets.FashionMNIST('dataset/', download=False, train=True, transform=transform)\n",
    "trainloader = torch.utils.data.DataLoader(trainset, batch_size=64, shuffle=True)\n",
    "\n",
    "# 下载Fashion-MNIST测试集数据，并构建测试集数据载入器trainloader,每次从测试集中载入64张图片，每次载入都打乱顺序\n",
    "testset = torchvision.datasets.FashionMNIST('dataset/', download=False, train=False, transform=transform)\n",
    "testloader = torch.utils.data.DataLoader(testset, batch_size=64, shuffle=True)"
   ]
  },
  {
   "cell_type": "markdown",
   "metadata": {},
   "source": [
    "深度卷积神经网路"
   ]
  },
  {
   "cell_type": "code",
   "execution_count": 4,
   "metadata": {},
   "outputs": [],
   "source": [
    "class alexnet(torch.nn.Module):\n",
    "    def __init__(self):\n",
    "        super(alexnet, self).__init__()\n",
    "        self.layer1 = torch.nn.Sequential(torch.nn.Conv2d(1, 96, kernel_size=11, stride=4, padding=1), torch.nn.ReLU(),\n",
    "                                 torch.nn.MaxPool2d(kernel_size=3, stride=2))\n",
    "        self.layer2 = torch.nn.Sequential(torch.nn.Conv2d(96, 256, kernel_size=5, padding=2), torch.nn.ReLU(),\n",
    "                                 torch.nn.MaxPool2d(kernel_size=3, stride=2))\n",
    "        self.layer3 = torch.nn.Sequential(torch.nn.Conv2d(256, 384, kernel_size=3, padding=1), torch.nn.ReLU())\n",
    "        self.layer4 = torch.nn.Sequential(torch.nn.Conv2d(384, 384, kernel_size=3, padding=1), torch.nn.ReLU())\n",
    "        self.layer5 = torch.nn.Sequential(torch.nn.Conv2d(384, 256, kernel_size=3, padding=1), torch.nn.ReLU(),\n",
    "                                           torch.nn.MaxPool2d(kernel_size=3, stride=2))\n",
    "        self.layer6 = torch.nn.Flatten()\n",
    "        self.layer7 = torch.nn.Sequential(torch.nn.Linear(6400, 4096), torch.nn.ReLU(), torch.nn.Dropout(0.5),\n",
    "                                           torch.nn.Linear(4096, 4096), torch.nn.ReLU(), torch.nn.Dropout(0.5),\n",
    "                                           torch.nn.Linear(4096, 10))\n",
    "\n",
    "    \n",
    "    def forward(self, x):\n",
    "        x = self.layer1(x)\n",
    "        x = self.layer2(x)\n",
    "        x = self.layer3(x)\n",
    "        x = self.layer4(x)\n",
    "        x = self.layer5(x)\n",
    "        x = self.layer6(x)\n",
    "        x = self.layer7(x)\n",
    "        return x"
   ]
  },
  {
   "cell_type": "markdown",
   "metadata": {},
   "source": [
    "训练"
   ]
  },
  {
   "cell_type": "code",
   "execution_count": 5,
   "metadata": {},
   "outputs": [
    {
     "name": "stderr",
     "output_type": "stream",
     "text": [
      "  0%|          | 0/10 [00:00<?, ?it/s]/home/songzihui/miniconda3/envs/d2l/lib/python3.12/site-packages/torch/nn/modules/conv.py:456: UserWarning: Plan failed with a cudnnException: CUDNN_BACKEND_EXECUTION_PLAN_DESCRIPTOR: cudnnFinalize Descriptor Failed cudnn_status: CUDNN_STATUS_NOT_SUPPORTED (Triggered internally at ../aten/src/ATen/native/cudnn/Conv_v8.cpp:919.)\n",
      "  return F.conv2d(input, weight, bias, self.stride,\n",
      "100%|██████████| 10/10 [21:58<00:00, 131.87s/it]\n"
     ]
    }
   ],
   "source": [
    "net = alexnet()\n",
    "net = net.to(device=try_gpu())\n",
    "\n",
    "net.train()\n",
    "\n",
    "cost = torch.nn.CrossEntropyLoss()\n",
    "optimizer = torch.optim.Adam(net.parameters())\n",
    "\n",
    "loss_data = {\n",
    "    \"epoch\" : [],\n",
    "    \"loss\" : []\n",
    "}\n",
    "\n",
    "i = 0\n",
    "for epoch in tqdm.tqdm(range(10)):\n",
    "    loss_sum = 0\n",
    "    for images, labels in trainloader:\n",
    "        images = images.to(device=try_gpu())\n",
    "        labels = labels.to(device=try_gpu())\n",
    "        y_predict = net(images)\n",
    "        optimizer.zero_grad()\n",
    "        loss = cost( y_predict, labels )\n",
    "        loss.backward()\n",
    "        optimizer.step()\n",
    "        i = i + 1\n",
    "        loss_sum = loss_sum + float(loss)\n",
    "    loss_data[\"epoch\"].append(epoch)\n",
    "    loss_data[\"loss\"].append(loss_sum / i)\n",
    "    i = i + 1"
   ]
  },
  {
   "cell_type": "markdown",
   "metadata": {},
   "source": [
    "Loss"
   ]
  },
  {
   "cell_type": "code",
   "execution_count": 8,
   "metadata": {},
   "outputs": [
    {
     "name": "stdout",
     "output_type": "stream",
     "text": [
      "{'epoch': [0, 1, 2, 3, 4, 5, 6, 7, 8, 9], 'loss': [0.5762843457080408, 0.1682390704131787, 0.09921124515875074, 0.06718607558192966, 0.0505116866384865, 0.039540446864184106, 0.03240174646769909, 0.026824734643778207, 0.022954202438952655, 0.019711459054551017]}\n"
     ]
    },
    {
     "data": {
      "image/png": "[encoded data removed]",
      "text/plain": [
       "<Figure size 640x480 with 1 Axes>"
      ]
     },
     "metadata": {},
     "output_type": "display_data"
    }
   ],
   "source": [
    "print(loss_data)\n",
    "plt.plot(loss_data[\"epoch\"], loss_data[\"loss\"])\n",
    "plt.show()"
   ]
  },
  {
   "cell_type": "markdown",
   "metadata": {},
   "source": [
    "准确率"
   ]
  },
  {
   "cell_type": "code",
   "execution_count": 9,
   "metadata": {},
   "outputs": [
    {
     "name": "stdout",
     "output_type": "stream",
     "text": [
      "平均精准度：0.902667\n"
     ]
    }
   ],
   "source": [
    "net.eval()\n",
    "yhat = []\n",
    "epoch = 0\n",
    "accuracy_sum = 0\n",
    "for images, labels in testloader:\n",
    "    images = images.to(device=try_gpu())\n",
    "    labels = labels.to(device=try_gpu())\n",
    "    y_predict = net(images)\n",
    "    y_predict = torch.argmax(y_predict, dim = 1)\n",
    "    accuracy = torch.eq(labels, y_predict).float().mean()\n",
    "    accuracy_sum = accuracy_sum + accuracy\n",
    "    epoch = epoch + 1\n",
    "print(\"平均精准度：%f\" % (accuracy_sum / epoch))"
   ]
  }
 ],
 "metadata": {
  "kernelspec": {
   "display_name": "d2l",
   "language": "python",
   "name": "python3"
  },
  "language_info": {
   "codemirror_mode": {
    "name": "ipython",
    "version": 3
   },
   "file_extension": ".py",
   "mimetype": "text/x-python",
   "name": "python",
   "nbconvert_exporter": "python",
   "pygments_lexer": "ipython3",
   "version": "3.12.3"
  }
 },
 "nbformat": 4,
 "nbformat_minor": 2
}
