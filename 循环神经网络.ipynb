{
 "cells": [
  {
   "cell_type": "code",
   "execution_count": 883,
   "metadata": {},
   "outputs": [],
   "source": [
    "import json\n",
    "import jieba\n",
    "import pandas\n",
    "import numpy as np"
   ]
  },
  {
   "cell_type": "code",
   "execution_count": 884,
   "metadata": {},
   "outputs": [],
   "source": [
    "# 加载数据集\n",
    "with open(\"./dataset/HPD/cn_train_set.json\", 'r') as file:\n",
    "    train_file = json.load(file)\n",
    "with open(\"./dataset/HPD/cn_test_set.json\", 'r') as file:\n",
    "    test_file = json.load(file)"
   ]
  },
  {
   "cell_type": "code",
   "execution_count": 885,
   "metadata": {},
   "outputs": [],
   "source": [
    "# 加载停用词表\n",
    "with open('dataset/停用词表.txt', encoding='utf-8') as f:\n",
    "    con = f.readlines()\n",
    "    stop_words = set()\n",
    "    for i in con:\n",
    "        i = i.replace(\"\\n\", \"\")\n",
    "        stop_words.add(i)"
   ]
  },
  {
   "cell_type": "code",
   "execution_count": 886,
   "metadata": {},
   "outputs": [],
   "source": [
    "# 对对话词元化\n",
    "train_words = {}\n",
    "for segment in train_file:\n",
    "    for line in train_file[segment][\"对话历史\"]:\n",
    "        tokens = jieba.cut(line, cut_all=False)\n",
    "        for token in tokens:\n",
    "            # 去停用词\n",
    "            if token not in stop_words and len(token) > 1:\n",
    "                if token in train_words:\n",
    "                    train_words[token] += 1\n",
    "                else:\n",
    "                    train_words[token] = 1\n",
    "test_words = {}\n",
    "for segment in test_file:\n",
    "    for line in test_file[segment][\"对话历史\"]:\n",
    "        tokens = jieba.cut(line, cut_all=False)\n",
    "        for token in tokens:\n",
    "            # 去停用词\n",
    "            if token not in stop_words and len(token) > 1:\n",
    "                if token in test_words:\n",
    "                    test_words[token] += 1\n",
    "                else:\n",
    "                    test_words[token] = 1"
   ]
  },
  {
   "cell_type": "code",
   "execution_count": 887,
   "metadata": {},
   "outputs": [],
   "source": [
    "train_df = pandas.DataFrame()\n",
    "train_df[\"Word\"] = train_words.keys()\n",
    "train_df[\"Num\"] = train_words.values()\n",
    "test_df = pandas.DataFrame()\n",
    "test_df[\"Word\"] = test_words.keys()\n",
    "test_df[\"Num\"] = test_words.values()"
   ]
  },
  {
   "cell_type": "code",
   "execution_count": 888,
   "metadata": {},
   "outputs": [
    {
     "data": {
      "text/plain": [
       "Word    11471\n",
       "Num     11471\n",
       "dtype: int64"
      ]
     },
     "execution_count": 888,
     "metadata": {},
     "output_type": "execute_result"
    }
   ],
   "source": [
    "train_df.count()"
   ]
  },
  {
   "cell_type": "code",
   "execution_count": 889,
   "metadata": {},
   "outputs": [
    {
     "data": {
      "text/plain": [
       "Word    2996\n",
       "Num     2996\n",
       "dtype: int64"
      ]
     },
     "execution_count": 889,
     "metadata": {},
     "output_type": "execute_result"
    }
   ],
   "source": [
    "test_df.count()"
   ]
  },
  {
   "cell_type": "code",
   "execution_count": 890,
   "metadata": {},
   "outputs": [
    {
     "name": "stdout",
     "output_type": "stream",
     "text": [
      "count    11471.000000\n",
      "mean         0.049012\n",
      "std          0.464451\n",
      "min          0.008718\n",
      "25%          0.008718\n",
      "50%          0.008718\n",
      "75%          0.026153\n",
      "max         43.300497\n",
      "Name: Freq, dtype: float64\n",
      "count    2996.000000\n",
      "mean        0.088870\n",
      "std         0.426788\n",
      "min         0.033378\n",
      "25%         0.033378\n",
      "50%         0.033378\n",
      "75%         0.066756\n",
      "max        20.060080\n",
      "Name: Freq, dtype: float64\n"
     ]
    }
   ],
   "source": [
    "# 构建词表\n",
    "class Vocab:\n",
    "    def __init__(self, tokens=None, min_freq = 0) -> None:\n",
    "        if tokens is None:\n",
    "            return\n",
    "        # 计算频率\n",
    "        freq = (tokens[\"Num\"] / tokens[\"Num\"].count()) * 100\n",
    "        tokens[\"Freq\"] = freq\n",
    "        print(tokens[\"Freq\"].describe())\n",
    "        \n",
    "        if not min_freq:\n",
    "            min_freq = tokens[\"Freq\"].min()\n",
    "\n",
    "        # 删除频率太低的词\n",
    "        tokens.drop(tokens[(tokens.Freq <= min_freq)].index, inplace=True)\n",
    "        self.tokens = tokens\n",
    "\n",
    "    def __len__(self):\n",
    "        return self.tokens.count()\n",
    "    \n",
    "    def __getitem__(self, start, end = -1):\n",
    "        if (start < 0 or start > len(self.tokens)) and \\\n",
    "        (end < 0 or end > len(self.tokens)):\n",
    "            return\n",
    "        if end == -1:\n",
    "            return self.tokens.iloc[start:]\n",
    "        elif not end:\n",
    "            return self.tokens.iloc[start]\n",
    "        return self.tokens.iloc[start: end]\n",
    "    \n",
    "    @property\n",
    "    def unk(self):\n",
    "        return 0\n",
    "    \n",
    "    @property\n",
    "    def token_freqs(self):\n",
    "        return self.tokens[\"Freq\"]\n",
    "\n",
    "train_table = Vocab(train_df)\n",
    "test_table= Vocab(test_df)"
   ]
  },
  {
   "cell_type": "code",
   "execution_count": 891,
   "metadata": {},
   "outputs": [
    {
     "name": "stdout",
     "output_type": "stream",
     "text": [
      "   Word   Num       Freq\n",
      "0   弗农说   103   0.897916\n",
      "1    疯子    13   0.113329\n",
      "4    没完     5   0.043588\n",
      "6    哈利  4967  43.300497\n",
      "7    梦见     7   0.061023\n",
      "8    一辆     3   0.026153\n",
      "9   摩托车     5   0.043588\n",
      "11   达力    57   0.496905\n",
      "14   开学     8   0.069741\n",
      "15  第一天     6   0.052306\n",
      "16   新生     5   0.043588\n",
      "18   马桶     5   0.043588\n",
      "19  上楼去     2   0.017435\n",
      "20  试一试     9   0.078459\n",
      "21   不用    56   0.488188\n",
      "22   多谢    13   0.113329\n",
      "23   可怜    32   0.278964\n",
      "26   脑袋    25   0.217941\n",
      "27  斯梅廷     2   0.017435\n",
      "29   玛姬    24   0.209223\n",
      "30   病倒     2   0.017435\n",
      "32   老爸     4   0.034871\n",
      "33   收到    27   0.235376\n",
      "34   东西   401   3.495772\n",
      "35   写给     3   0.026153\n",
      "36   写信    14   0.122047\n",
      "37   佩妮    38   0.331270\n",
      "38  德思礼    12   0.104612\n",
      "39   我要   109   0.950222\n",
      "40   封信     6   0.052306\n",
      "41   统统    11   0.095894\n",
      "42   写错     2   0.017435\n",
      "43   地址     4   0.034871\n",
      "44   寄给     5   0.043588\n",
      "45   烧掉     2   0.017435\n",
      "46   上边     2   0.017435\n",
      "47   碗柜     7   0.061023\n",
      "48   住嘴     2   0.017435\n",
      "49   不错    70   0.610235\n",
      "50   说起     5   0.043588\n",
      "51   姨妈    20   0.174353\n",
      "52   长大     8   0.069741\n",
      "53   地方   171   1.490716\n",
      "54   确实    64   0.557929\n",
      "55   到达     5   0.043588\n",
      "56   一间    18   0.156917\n",
      "57   卧室     7   0.061023\n",
      "58   这是   155   1.351234\n",
      "59   海格   502   4.376253\n",
      "60   巨人    14   0.122047\n"
     ]
    }
   ],
   "source": [
    "# 输出频率前50的词\n",
    "print(train_table.__getitem__(0, 50))"
   ]
  },
  {
   "cell_type": "code",
   "execution_count": 892,
   "metadata": {},
   "outputs": [
    {
     "name": "stdout",
     "output_type": "stream",
     "text": [
      "   Word  Num       Freq\n",
      "0    佩妮   36   1.201602\n",
      "2    弗农    5   0.166889\n",
      "3    费格    2   0.066756\n",
      "4    太太    2   0.066756\n",
      "6    来接    2   0.066756\n",
      "7   弗农说   35   1.168224\n",
      "8    玛姬    2   0.066756\n",
      "11   犯傻    2   0.066756\n",
      "12   讨厌   10   0.333778\n",
      "13   孩子   16   0.534045\n",
      "15   朋友   17   0.567423\n",
      "22   哈利  601  20.060080\n",
      "23   留在    5   0.166889\n",
      "24   家里    9   0.300401\n",
      "25   回来   12   0.400534\n",
      "26   房子    4   0.133511\n",
      "28  动物园    2   0.066756\n",
      "29   车上    2   0.066756\n",
      "34   妈妈   11   0.367156\n",
      "37   达力   45   1.502003\n",
      "39   警告    8   0.267023\n",
      "40   小子    5   0.166889\n",
      "42  一点点    3   0.100134\n",
      "44   碗柜    2   0.066756\n",
      "45  圣诞节    6   0.200267\n",
      "47   巨蟒    2   0.066756\n",
      "48   碰到    2   0.066756\n",
      "50   是从    4   0.133511\n",
      "51   不错   19   0.634179\n",
      "52   明白   25   0.834446\n",
      "53   巴西    4   0.133511\n",
      "54   爬虫    2   0.066756\n",
      "55  管理员    2   0.066756\n",
      "56  德思礼    7   0.233645\n",
      "57   这条    3   0.100134\n",
      "58  决不会    3   0.100134\n",
      "60   来到    3   0.100134\n",
      "62   玻璃    2   0.066756\n",
      "64   说话   17   0.567423\n",
      "65   这是   20   0.667557\n",
      "74  干什么   11   0.367156\n",
      "75   检查    2   0.066756\n",
      "77  有没有    6   0.200267\n",
      "81   老爸    2   0.066756\n",
      "82   收到    6   0.200267\n",
      "83   东西   47   1.568758\n",
      "84   写给    3   0.100134\n",
      "85   写信    6   0.200267\n",
      "86   我要   21   0.700935\n",
      "87   封信    3   0.100134\n"
     ]
    }
   ],
   "source": [
    "# 输出频率前50的词\n",
    "print(test_table.__getitem__(0, 50))"
   ]
  },
  {
   "cell_type": "code",
   "execution_count": 893,
   "metadata": {},
   "outputs": [
    {
     "name": "stdout",
     "output_type": "stream",
     "text": [
      "3\n",
      "      Word   Num       Freq\n",
      "6       哈利  4967  43.300497\n",
      "7       梦见     7   0.061023\n",
      "8       一辆     3   0.026153\n",
      "9      摩托车     5   0.043588\n",
      "11      达力    57   0.496905\n",
      "...    ...   ...        ...\n",
      "11400   困扰     2   0.017435\n",
      "11437   意愿     2   0.017435\n",
      "11451   罗丝     2   0.017435\n",
      "11455   泰迪     6   0.052306\n",
      "11456  维克托     2   0.017435\n",
      "\n",
      "[5254 rows x 3 columns]\n"
     ]
    }
   ],
   "source": [
    "# 划分数据集\n",
    "def randomly_divide_data(batch_size, original, num_steps):\n",
    "    start = np.random.randint(0, num_steps - 1)\n",
    "    print(original.__getitem__(start, -1))\n",
    "    num_batches = 0\n",
    "    X = []\n",
    "    Y = []\n",
    "    for i in range(0, batch_size * num_batches, batch_size):\n",
    "        x_data = original.__getitem__(start + i, start + i + batch_size).index()       \n",
    "        X.append(x_data)\n",
    "        y_data\n",
    "return X, Y\n",
    "randomly_divide_data(64, train_table, 5)"
   ]
  }
 ],
 "metadata": {
  "kernelspec": {
   "display_name": "d2l",
   "language": "python",
   "name": "python3"
  },
  "language_info": {
   "codemirror_mode": {
    "name": "ipython",
    "version": 3
   },
   "file_extension": ".py",
   "mimetype": "text/x-python",
   "name": "python",
   "nbconvert_exporter": "python",
   "pygments_lexer": "ipython3",
   "version": "3.12.3"
  }
 },
 "nbformat": 4,
 "nbformat_minor": 2
}
